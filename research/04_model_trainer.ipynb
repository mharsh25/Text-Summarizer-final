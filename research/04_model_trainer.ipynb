{
 "cells": [
  {
   "cell_type": "code",
   "execution_count": 135,
   "id": "175690f7",
   "metadata": {},
   "outputs": [],
   "source": [
    "import os"
   ]
  },
  {
   "cell_type": "code",
   "execution_count": 136,
   "id": "13441ed1",
   "metadata": {},
   "outputs": [
    {
     "data": {
      "text/plain": [
       "'C:\\\\Users\\\\A5396\\\\Music\\\\Text-Summarizer'"
      ]
     },
     "execution_count": 136,
     "metadata": {},
     "output_type": "execute_result"
    }
   ],
   "source": [
    "pwd"
   ]
  },
  {
   "cell_type": "code",
   "execution_count": 137,
   "id": "a3fb5132",
   "metadata": {},
   "outputs": [],
   "source": [
    "new_path = \"C:/Users/A5396/Music/Text-Summarizer\"\n",
    "##os.chdir(new_path)"
   ]
  },
  {
   "cell_type": "code",
   "execution_count": 138,
   "id": "1601e3ac",
   "metadata": {},
   "outputs": [],
   "source": [
    "from dataclasses import dataclass\n",
    "from pathlib import Path\n",
    "\n",
    "@dataclass(frozen=True)\n",
    "class ModelTrainerConfig:\n",
    "    root_dir: Path\n",
    "    data_path: Path\n",
    "    model_ckpt: Path\n",
    "    num_train_epochs: int\n",
    "    warmup_steps: int\n",
    "    per_device_train_batch_size: int\n",
    "    weight_decay: float\n",
    "    logging_steps: int\n",
    "    evaluation_strategy: str\n",
    "    eval_steps: int\n",
    "    save_steps: float\n",
    "    gradient_accumulation_steps: int"
   ]
  },
  {
   "cell_type": "code",
   "execution_count": 139,
   "id": "9b58b173",
   "metadata": {},
   "outputs": [],
   "source": [
    "from TextSummarizer.constants import CONFIG_FILE_PATH, PARAMS_FILE_PATH\n",
    "from TextSummarizer.utils.common import read_yaml, create_directories"
   ]
  },
  {
   "cell_type": "code",
   "execution_count": 140,
   "id": "335c6a39",
   "metadata": {},
   "outputs": [],
   "source": [
    "class ConfigurationManager:\n",
    "    def __init__(\n",
    "            self,\n",
    "            config_filepath=CONFIG_FILE_PATH,\n",
    "            params_filepath=PARAMS_FILE_PATH):\n",
    "        \n",
    "        self.config=read_yaml(config_filepath)\n",
    "        self.params=read_yaml(params_filepath)\n",
    "        print(self.config)\n",
    "        print(self.params)\n",
    "\n",
    "        create_directories([self.config.artifacts_root])\n",
    "\n",
    "    def get_model_trainer_config(self)-> ModelTrainerConfig:\n",
    "        config=self.config.model_trainer\n",
    "        params=self.params.TrainingArguments\n",
    "\n",
    "        create_directories([config.root_dir])\n",
    "\n",
    "        model_trainer_config=ModelTrainerConfig(\n",
    "                    root_dir = config.root_dir,\n",
    "                    data_path = config.data_path,\n",
    "                    model_ckpt = config.model_ckpt,\n",
    "                    num_train_epochs = params.num_train_epochs,\n",
    "                    warmup_steps = params.warmup_steps,\n",
    "                    per_device_train_batch_size = params.per_device_train_batch_size,\n",
    "                    weight_decay = params.weight_decay,\n",
    "                    logging_steps = params.logging_steps,\n",
    "                    evaluation_strategy = params.evaluation_strategy,\n",
    "                    eval_steps = params.eval_steps,\n",
    "                    save_steps = params.save_steps,\n",
    "                    gradient_accumulation_steps = params.gradient_accumulation_steps,\n",
    "                   )\n",
    "        return model_trainer_config\n"
   ]
  },
  {
   "cell_type": "code",
   "execution_count": 141,
   "id": "4e4a4047",
   "metadata": {},
   "outputs": [],
   "source": [
    "from transformers import TrainingArguments, Trainer\n",
    "from transformers import DataCollatorForSeq2Seq\n",
    "from transformers import AutoModelForSeq2SeqLM, AutoTokenizer\n",
    "from datasets import load_dataset, load_from_disk\n",
    "\n",
    "import torch"
   ]
  },
  {
   "cell_type": "code",
   "execution_count": 142,
   "id": "90b62b2b",
   "metadata": {},
   "outputs": [],
   "source": [
    "class ModelTrainer:\n",
    "    def __init__(self, config: ModelTrainerConfig):\n",
    "        self.config=config\n",
    "    \n",
    "    def train(self):\n",
    "        device=\"cuda\" if torch.cuda.is_available() else \"cpu\"\n",
    "        tokenizer=AutoTokenizer.from_pretrained(self.config.model_ckpt)\n",
    "        model_pegasus=AutoModelForSeq2SeqLM.from_pretrained(self.config.model_ckpt).to(device)\n",
    "        seq2seq_data_collator=DataCollatorForSeq2Seq(tokenizer,model=model_pegasus)\n",
    "\n",
    "        #loading data\n",
    "\n",
    "        dataset_samsum_pt=load_from_disk(self.config.data_path)\n",
    "\n",
    "        trainer_args=TrainingArguments(\n",
    "                        output_dir= self.config.root_dir,\n",
    "                        num_train_epochs= self.config.num_train_epochs,\n",
    "                        warmup_steps= self.config.warmup_steps,\n",
    "                        per_device_train_batch_size= self.config.per_device_train_batch_size,\n",
    "                        weight_decay = self.config.weight_decay,\n",
    "                        logging_steps = self.config.logging_steps,\n",
    "                        eval_strategy = self.config.evaluation_strategy,\n",
    "                        eval_steps = self.config.eval_steps,\n",
    "                        save_steps = self.config.save_steps,\n",
    "                        gradient_accumulation_steps = self.config.gradient_accumulation_steps,\n",
    "                        )\n",
    "        trainer=Trainer(\n",
    "            model=model_pegasus,\n",
    "            args=trainer_args,\n",
    "            tokenizer=tokenizer,\n",
    "            data_collator=seq2seq_data_collator,\n",
    "            train_dataset=dataset_samsum_pt['test'],\n",
    "            eval_dataset=dataset_samsum_pt['validation']\n",
    "        )\n",
    "\n",
    "        trainer.train()\n",
    "\n",
    "        ##save model\n",
    "\n",
    "        model_pegasus.save_pretrained(os.path.join(self.config.root_dir,\"pegasus-samsum-model\"))\n",
    "        tokenizer.save_pretrained(os.path.join(self.config.root_dir,\"tokenizer\"))  \n",
    "              \n"
   ]
  },
  {
   "cell_type": "code",
   "execution_count": 143,
   "id": "7fee2f9d",
   "metadata": {},
   "outputs": [
    {
     "name": "stdout",
     "output_type": "stream",
     "text": [
      "[2025-07-17 11:27:46,480: INFO: common: yaml file: config\\config.yaml loaded successfully]\n",
      "[2025-07-17 11:27:46,483: INFO: common: yaml file: params.yaml loaded successfully]\n",
      "{'artifacts_root': 'artifacts', 'data_ingestion': {'root_dir': 'artifacts/data_ingestion', 'source_url': 'https://github.com/entbappy/Branching-tutorial/raw/master/summarizer-data.zip', 'local_data_file': 'artifacts/data_ingestion/data.zip', 'unzip_dir': 'artifacts/data_ingestion'}, 'data_validation': {'root_dir': 'artifacts/data_validation', 'STATUS_FILE': 'artifacts/data_validation/status.txt', 'ALL_REQUIRED_FILES': ['dataset_dict.json', 'train', 'test', 'validation']}, 'data_transformation': {'root_dir': 'artifacts/data_transformation', 'data_path': 'artifacts/data_ingestion/samsum_dataset', 'tokenizer_name': 'google/pegasus-cnn_dailymail'}, 'model_trainer': {'root_dir': 'artifacts/model_trainer', 'data_path': 'artifacts/data_transformation/samsum_dataset', 'model_ckpt': 'google/pegasus-cnn_dailymail'}}\n",
      "{'TrainingArguments': {'num_train_epochs': 1, 'warmup_steps': 500, 'per_device_train_batch_size': 1, 'weight_decay': 0.01, 'logging_steps': 10, 'evaluation_strategy': 'steps', 'eval_steps': 1000000, 'save_steps': 1000000, 'gradient_accumulation_steps': 16}}\n",
      "[2025-07-17 11:27:46,484: INFO: common: created directory at: artifacts]\n",
      "[2025-07-17 11:27:46,485: INFO: common: created directory at: artifacts/model_trainer]\n"
     ]
    },
    {
     "name": "stderr",
     "output_type": "stream",
     "text": [
      "Some weights of PegasusForConditionalGeneration were not initialized from the model checkpoint at google/pegasus-cnn_dailymail and are newly initialized: ['model.decoder.embed_positions.weight', 'model.encoder.embed_positions.weight']\n",
      "You should probably TRAIN this model on a down-stream task to be able to use it for predictions and inference.\n",
      "C:\\Users\\A5396\\AppData\\Local\\Temp\\ipykernel_8736\\620814064.py:27: FutureWarning: `tokenizer` is deprecated and will be removed in version 5.0.0 for `Trainer.__init__`. Use `processing_class` instead.\n",
      "  trainer=Trainer(\n",
      "c:\\Users\\A5396\\Music\\Text-Summarizer\\.venv\\Lib\\site-packages\\torch\\utils\\data\\dataloader.py:665: UserWarning: 'pin_memory' argument is set as true but no accelerator is found, then device pinned memory won't be used.\n",
      "  warnings.warn(warn_msg)\n"
     ]
    },
    {
     "data": {
      "text/html": [
       "\n",
       "    <div>\n",
       "      \n",
       "      <progress value='52' max='52' style='width:300px; height:20px; vertical-align: middle;'></progress>\n",
       "      [52/52 1:09:03, Epoch 1/1]\n",
       "    </div>\n",
       "    <table border=\"1\" class=\"dataframe\">\n",
       "  <thead>\n",
       " <tr style=\"text-align: left;\">\n",
       "      <th>Step</th>\n",
       "      <th>Training Loss</th>\n",
       "      <th>Validation Loss</th>\n",
       "    </tr>\n",
       "  </thead>\n",
       "  <tbody>\n",
       "  </tbody>\n",
       "</table><p>"
      ],
      "text/plain": [
       "<IPython.core.display.HTML object>"
      ]
     },
     "metadata": {},
     "output_type": "display_data"
    },
    {
     "name": "stderr",
     "output_type": "stream",
     "text": [
      "c:\\Users\\A5396\\Music\\Text-Summarizer\\.venv\\Lib\\site-packages\\transformers\\modeling_utils.py:3685: UserWarning: Moving the following attributes in the config to the generation config: {'max_length': 128, 'min_length': 32, 'num_beams': 8, 'length_penalty': 0.8}. You are seeing this warning because you've set generation parameters in the model config, as opposed to in the generation config.\n",
      "  warnings.warn(\n"
     ]
    }
   ],
   "source": [
    "try:\n",
    "    config=ConfigurationManager()\n",
    "    model_trainer_config=config.get_model_trainer_config()\n",
    "    model_trainer=ModelTrainer(config=model_trainer_config)\n",
    "    model_trainer.train()\n",
    "except Exception as e:\n",
    "    raise e"
   ]
  }
 ],
 "metadata": {
  "kernelspec": {
   "display_name": ".venv",
   "language": "python",
   "name": "python3"
  },
  "language_info": {
   "codemirror_mode": {
    "name": "ipython",
    "version": 3
   },
   "file_extension": ".py",
   "mimetype": "text/x-python",
   "name": "python",
   "nbconvert_exporter": "python",
   "pygments_lexer": "ipython3",
   "version": "3.12.7"
  }
 },
 "nbformat": 4,
 "nbformat_minor": 5
}
